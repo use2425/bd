{
  "nbformat": 4,
  "nbformat_minor": 0,
  "metadata": {
    "colab": {
      "provenance": []
    },
    "kernelspec": {
      "name": "python3",
      "display_name": "Python 3"
    },
    "language_info": {
      "name": "python"
    }
  },
  "cells": [
    {
      "cell_type": "code",
      "execution_count": 9,
      "metadata": {
        "id": "dx6AcCSR61f-"
      },
      "outputs": [],
      "source": [
        "from pyspark.sql import SparkSession\n",
        "from pyspark import SparkContext\n",
        "spark = SparkSession.builder.getOrCreate()\n",
        "import pandas as pd\n",
        "import pyspark.sql.types as tp\n",
        "from pyspark.ml.feature import Imputer\n",
        "from pyspark.ml.feature import VectorAssembler\n",
        "from pyspark.ml.classification import LogisticRegression"
      ]
    },
    {
      "cell_type": "code",
      "source": [
        "#read csv file\n",
        "my_data=spark.read.csv('/content/diabetes.csv',header=True)\n",
        "my_data.show()"
      ],
      "metadata": {
        "colab": {
          "base_uri": "https://localhost:8080/"
        },
        "id": "d-B55qMV7kqK",
        "outputId": "b227954e-a200-49c9-b623-6c329f32d5ad"
      },
      "execution_count": 10,
      "outputs": [
        {
          "output_type": "stream",
          "name": "stdout",
          "text": [
            "+-----------+-------+-------------+-------------+-------+----+------------------------+---+-------+\n",
            "|Pregnancies|Glucose|BloodPressure|SkinThickness|Insulin| BMI|DiabetesPedigreeFunction|Age|Outcome|\n",
            "+-----------+-------+-------------+-------------+-------+----+------------------------+---+-------+\n",
            "|          6|    148|           72|           35|      0|33.6|                   0.627| 50|      1|\n",
            "|          1|     85|           66|           29|      0|26.6|                   0.351| 31|      0|\n",
            "|          8|    183|           64|            0|      0|23.3|                   0.672| 32|      1|\n",
            "|          1|     89|           66|           23|     94|28.1|                   0.167| 21|      0|\n",
            "|          0|    137|           40|           35|    168|43.1|                   2.288| 33|      1|\n",
            "|          5|    116|           74|            0|      0|25.6|                   0.201| 30|      0|\n",
            "|          3|     78|           50|           32|     88|  31|                   0.248| 26|      1|\n",
            "|         10|    115|            0|            0|      0|35.3|                   0.134| 29|      0|\n",
            "|          2|    197|           70|           45|    543|30.5|                   0.158| 53|      1|\n",
            "|          8|    125|           96|            0|      0|   0|                   0.232| 54|      1|\n",
            "|          4|    110|           92|            0|      0|37.6|                   0.191| 30|      0|\n",
            "|         10|    168|           74|            0|      0|  38|                   0.537| 34|      1|\n",
            "|         10|    139|           80|            0|      0|27.1|                   1.441| 57|      0|\n",
            "|          1|    189|           60|           23|    846|30.1|                   0.398| 59|      1|\n",
            "|          5|    166|           72|           19|    175|25.8|                   0.587| 51|      1|\n",
            "|          7|    100|            0|            0|      0|  30|                   0.484| 32|      1|\n",
            "|          0|    118|           84|           47|    230|45.8|                   0.551| 31|      1|\n",
            "|          7|    107|           74|            0|      0|29.6|                   0.254| 31|      1|\n",
            "|          1|    103|           30|           38|     83|43.3|                   0.183| 33|      0|\n",
            "|          1|    115|           70|           30|     96|34.6|                   0.529| 32|      1|\n",
            "+-----------+-------+-------------+-------------+-------+----+------------------------+---+-------+\n",
            "only showing top 20 rows\n",
            "\n"
          ]
        }
      ]
    },
    {
      "cell_type": "code",
      "source": [
        "#see the schema\n",
        "my_data.printSchema()"
      ],
      "metadata": {
        "colab": {
          "base_uri": "https://localhost:8080/"
        },
        "id": "37rW9PwC7oCU",
        "outputId": "e6973ef7-75c9-404b-8812-5459ca9110e5"
      },
      "execution_count": 11,
      "outputs": [
        {
          "output_type": "stream",
          "name": "stdout",
          "text": [
            "root\n",
            " |-- Pregnancies: string (nullable = true)\n",
            " |-- Glucose: string (nullable = true)\n",
            " |-- BloodPressure: string (nullable = true)\n",
            " |-- SkinThickness: string (nullable = true)\n",
            " |-- Insulin: string (nullable = true)\n",
            " |-- BMI: string (nullable = true)\n",
            " |-- DiabetesPedigreeFunction: string (nullable = true)\n",
            " |-- Age: string (nullable = true)\n",
            " |-- Outcome: string (nullable = true)\n",
            "\n"
          ]
        }
      ]
    },
    {
      "cell_type": "code",
      "source": [
        "#define schema\n",
        "my_schema=tp.StructType(\n",
        "    [\n",
        "        tp.StructField('Pregnancies',tp.IntegerType(),True),\n",
        "        tp.StructField('Glucose',tp.IntegerType(),True),\n",
        "        tp.StructField('BloodPressure',tp.IntegerType(),True),\n",
        "        tp.StructField('SkinThickness',tp.IntegerType(),True),\n",
        "        tp.StructField('Insulin',tp.IntegerType(),True),\n",
        "        tp.StructField('BMI',tp.FloatType(),True),\n",
        "        tp.StructField('DiabetesPedigreeFunction',tp.FloatType(),True),\n",
        "        tp.StructField('Age',tp.IntegerType(),True),\n",
        "        tp.StructField('Outcome',tp.IntegerType(),True)\n",
        "    ]\n",
        ")"
      ],
      "metadata": {
        "id": "VCe3UDO87sVS"
      },
      "execution_count": 12,
      "outputs": []
    },
    {
      "cell_type": "code",
      "source": [
        "my_data=spark.read.csv('/content/diabetes.csv',header=True,schema=my_schema)\n",
        "my_data.printSchema()"
      ],
      "metadata": {
        "colab": {
          "base_uri": "https://localhost:8080/"
        },
        "id": "BichVlLQ7tKs",
        "outputId": "f9fa2edb-93a5-4d92-a4c6-8e95e7f6b8a6"
      },
      "execution_count": 13,
      "outputs": [
        {
          "output_type": "stream",
          "name": "stdout",
          "text": [
            "root\n",
            " |-- Pregnancies: integer (nullable = true)\n",
            " |-- Glucose: integer (nullable = true)\n",
            " |-- BloodPressure: integer (nullable = true)\n",
            " |-- SkinThickness: integer (nullable = true)\n",
            " |-- Insulin: integer (nullable = true)\n",
            " |-- BMI: float (nullable = true)\n",
            " |-- DiabetesPedigreeFunction: float (nullable = true)\n",
            " |-- Age: integer (nullable = true)\n",
            " |-- Outcome: integer (nullable = true)\n",
            "\n"
          ]
        }
      ]
    },
    {
      "cell_type": "code",
      "source": [
        "#get dimension of data\n",
        "(my_data.count(),len(my_data.columns))"
      ],
      "metadata": {
        "colab": {
          "base_uri": "https://localhost:8080/"
        },
        "id": "VZXJtjdu7tQs",
        "outputId": "d31c5f88-7aa3-49e5-b0d3-0b34d0e2f252"
      },
      "execution_count": 14,
      "outputs": [
        {
          "output_type": "execute_result",
          "data": {
            "text/plain": [
              "(768, 9)"
            ]
          },
          "metadata": {},
          "execution_count": 14
        }
      ]
    },
    {
      "cell_type": "code",
      "source": [
        "my_data.head()"
      ],
      "metadata": {
        "colab": {
          "base_uri": "https://localhost:8080/"
        },
        "id": "3ge5UoOJ7tU0",
        "outputId": "2a9dbb2b-16c8-44f2-cc96-3577f0b3ef3d"
      },
      "execution_count": 15,
      "outputs": [
        {
          "output_type": "execute_result",
          "data": {
            "text/plain": [
              "Row(Pregnancies=6, Glucose=148, BloodPressure=72, SkinThickness=35, Insulin=0, BMI=33.599998474121094, DiabetesPedigreeFunction=0.6269999742507935, Age=50, Outcome=1)"
            ]
          },
          "metadata": {},
          "execution_count": 15
        }
      ]
    },
    {
      "cell_type": "code",
      "source": [
        "#Replace zero with null for filling missing values\n",
        "from pyspark.sql.functions import when, col\n",
        "\n",
        "def replace_zero_with_null(df):\n",
        "    for i, column_name in enumerate(df.columns):\n",
        "        # Skip first and last column\n",
        "        if i == 0 or i == len(df.columns) - 1:\n",
        "            continue\n",
        "        df = df.withColumn(column_name, when(col(column_name) == 0, None).otherwise(col(column_name)))\n",
        "    return df\n",
        "\n",
        "my_data = replace_zero_with_null(my_data)\n",
        "my_data.show()"
      ],
      "metadata": {
        "colab": {
          "base_uri": "https://localhost:8080/"
        },
        "id": "6B3dyiHh8EMq",
        "outputId": "87ba0eb6-e734-4600-d33f-0802b121ad06"
      },
      "execution_count": 16,
      "outputs": [
        {
          "output_type": "stream",
          "name": "stdout",
          "text": [
            "+-----------+-------+-------------+-------------+-------+----+------------------------+---+-------+\n",
            "|Pregnancies|Glucose|BloodPressure|SkinThickness|Insulin| BMI|DiabetesPedigreeFunction|Age|Outcome|\n",
            "+-----------+-------+-------------+-------------+-------+----+------------------------+---+-------+\n",
            "|          6|    148|           72|           35|   NULL|33.6|                   0.627| 50|      1|\n",
            "|          1|     85|           66|           29|   NULL|26.6|                   0.351| 31|      0|\n",
            "|          8|    183|           64|         NULL|   NULL|23.3|                   0.672| 32|      1|\n",
            "|          1|     89|           66|           23|     94|28.1|                   0.167| 21|      0|\n",
            "|          0|    137|           40|           35|    168|43.1|                   2.288| 33|      1|\n",
            "|          5|    116|           74|         NULL|   NULL|25.6|                   0.201| 30|      0|\n",
            "|          3|     78|           50|           32|     88|31.0|                   0.248| 26|      1|\n",
            "|         10|    115|         NULL|         NULL|   NULL|35.3|                   0.134| 29|      0|\n",
            "|          2|    197|           70|           45|    543|30.5|                   0.158| 53|      1|\n",
            "|          8|    125|           96|         NULL|   NULL|NULL|                   0.232| 54|      1|\n",
            "|          4|    110|           92|         NULL|   NULL|37.6|                   0.191| 30|      0|\n",
            "|         10|    168|           74|         NULL|   NULL|38.0|                   0.537| 34|      1|\n",
            "|         10|    139|           80|         NULL|   NULL|27.1|                   1.441| 57|      0|\n",
            "|          1|    189|           60|           23|    846|30.1|                   0.398| 59|      1|\n",
            "|          5|    166|           72|           19|    175|25.8|                   0.587| 51|      1|\n",
            "|          7|    100|         NULL|         NULL|   NULL|30.0|                   0.484| 32|      1|\n",
            "|          0|    118|           84|           47|    230|45.8|                   0.551| 31|      1|\n",
            "|          7|    107|           74|         NULL|   NULL|29.6|                   0.254| 31|      1|\n",
            "|          1|    103|           30|           38|     83|43.3|                   0.183| 33|      0|\n",
            "|          1|    115|           70|           30|     96|34.6|                   0.529| 32|      1|\n",
            "+-----------+-------+-------------+-------------+-------+----+------------------------+---+-------+\n",
            "only showing top 20 rows\n",
            "\n"
          ]
        }
      ]
    },
    {
      "cell_type": "code",
      "source": [
        "#impute values in null place in\n",
        "imputer = Imputer(\n",
        "    inputCols=my_data.columns,\n",
        "    outputCols=my_data.columns\n",
        "    ).setStrategy(\"median\")\n",
        "\n",
        "\n",
        "my_data1 = imputer.fit(my_data).transform(my_data)"
      ],
      "metadata": {
        "id": "ll8jHpHu8EQj"
      },
      "execution_count": 17,
      "outputs": []
    },
    {
      "cell_type": "code",
      "source": [
        "my_data1.show()"
      ],
      "metadata": {
        "colab": {
          "base_uri": "https://localhost:8080/"
        },
        "id": "873kTgNe8EUb",
        "outputId": "9f2c4600-f6c1-4bdc-903f-2e9774702aba"
      },
      "execution_count": 18,
      "outputs": [
        {
          "output_type": "stream",
          "name": "stdout",
          "text": [
            "+-----------+-------+-------------+-------------+-------+----+------------------------+---+-------+\n",
            "|Pregnancies|Glucose|BloodPressure|SkinThickness|Insulin| BMI|DiabetesPedigreeFunction|Age|Outcome|\n",
            "+-----------+-------+-------------+-------------+-------+----+------------------------+---+-------+\n",
            "|          6|    148|           72|           35|    125|33.6|                   0.627| 50|      1|\n",
            "|          1|     85|           66|           29|    125|26.6|                   0.351| 31|      0|\n",
            "|          8|    183|           64|           29|    125|23.3|                   0.672| 32|      1|\n",
            "|          1|     89|           66|           23|     94|28.1|                   0.167| 21|      0|\n",
            "|          0|    137|           40|           35|    168|43.1|                   2.288| 33|      1|\n",
            "|          5|    116|           74|           29|    125|25.6|                   0.201| 30|      0|\n",
            "|          3|     78|           50|           32|     88|31.0|                   0.248| 26|      1|\n",
            "|         10|    115|           72|           29|    125|35.3|                   0.134| 29|      0|\n",
            "|          2|    197|           70|           45|    543|30.5|                   0.158| 53|      1|\n",
            "|          8|    125|           96|           29|    125|32.3|                   0.232| 54|      1|\n",
            "|          4|    110|           92|           29|    125|37.6|                   0.191| 30|      0|\n",
            "|         10|    168|           74|           29|    125|38.0|                   0.537| 34|      1|\n",
            "|         10|    139|           80|           29|    125|27.1|                   1.441| 57|      0|\n",
            "|          1|    189|           60|           23|    846|30.1|                   0.398| 59|      1|\n",
            "|          5|    166|           72|           19|    175|25.8|                   0.587| 51|      1|\n",
            "|          7|    100|           72|           29|    125|30.0|                   0.484| 32|      1|\n",
            "|          0|    118|           84|           47|    230|45.8|                   0.551| 31|      1|\n",
            "|          7|    107|           74|           29|    125|29.6|                   0.254| 31|      1|\n",
            "|          1|    103|           30|           38|     83|43.3|                   0.183| 33|      0|\n",
            "|          1|    115|           70|           30|     96|34.6|                   0.529| 32|      1|\n",
            "+-----------+-------+-------------+-------------+-------+----+------------------------+---+-------+\n",
            "only showing top 20 rows\n",
            "\n"
          ]
        }
      ]
    },
    {
      "cell_type": "code",
      "source": [
        "# specify the input and output columns of the vector assembler\n",
        "assembler = VectorAssembler(inputCols=['Pregnancies',\n",
        "                                       'Glucose',\n",
        "                                       'BloodPressure',\n",
        "                                       'SkinThickness',\n",
        "                                       'Insulin', 'BMI',\n",
        "                                       'DiabetesPedigreeFunction',\n",
        "                                       'Age'],\n",
        "                             outputCol='features')\n",
        "\n",
        "final_data = assembler.transform(my_data1)\n",
        "final_data.select('features', 'Outcome').show()"
      ],
      "metadata": {
        "colab": {
          "base_uri": "https://localhost:8080/"
        },
        "id": "z3fLhNon8EX4",
        "outputId": "fd3f9b36-e218-4f61-ad7e-e9107198f294"
      },
      "execution_count": 19,
      "outputs": [
        {
          "output_type": "stream",
          "name": "stdout",
          "text": [
            "+--------------------+-------+\n",
            "|            features|Outcome|\n",
            "+--------------------+-------+\n",
            "|[6.0,148.0,72.0,3...|      1|\n",
            "|[1.0,85.0,66.0,29...|      0|\n",
            "|[8.0,183.0,64.0,2...|      1|\n",
            "|[1.0,89.0,66.0,23...|      0|\n",
            "|[0.0,137.0,40.0,3...|      1|\n",
            "|[5.0,116.0,74.0,2...|      0|\n",
            "|[3.0,78.0,50.0,32...|      1|\n",
            "|[10.0,115.0,72.0,...|      0|\n",
            "|[2.0,197.0,70.0,4...|      1|\n",
            "|[8.0,125.0,96.0,2...|      1|\n",
            "|[4.0,110.0,92.0,2...|      0|\n",
            "|[10.0,168.0,74.0,...|      1|\n",
            "|[10.0,139.0,80.0,...|      0|\n",
            "|[1.0,189.0,60.0,2...|      1|\n",
            "|[5.0,166.0,72.0,1...|      1|\n",
            "|[7.0,100.0,72.0,2...|      1|\n",
            "|[0.0,118.0,84.0,4...|      1|\n",
            "|[7.0,107.0,74.0,2...|      1|\n",
            "|[1.0,103.0,30.0,3...|      0|\n",
            "|[1.0,115.0,70.0,3...|      1|\n",
            "+--------------------+-------+\n",
            "only showing top 20 rows\n",
            "\n"
          ]
        }
      ]
    },
    {
      "cell_type": "code",
      "source": [
        "#split data for test and train\n",
        "train_data,test_data=final_data.randomSplit([0.8,0.2])"
      ],
      "metadata": {
        "id": "Qrm7C0L98X7Q"
      },
      "execution_count": 20,
      "outputs": []
    },
    {
      "cell_type": "code",
      "source": [
        "#train the model\n",
        "lr=LogisticRegression(featuresCol='features',labelCol='Outcome', maxIter=10)\n",
        "model=lr.fit(train_data)"
      ],
      "metadata": {
        "id": "52_MJuFy8YCw"
      },
      "execution_count": 21,
      "outputs": []
    },
    {
      "cell_type": "code",
      "source": [
        "#test model\n",
        "prediction=model.transform(test_data)\n",
        "prediction.show(5)"
      ],
      "metadata": {
        "colab": {
          "base_uri": "https://localhost:8080/"
        },
        "id": "EqMf6Pzf8YIP",
        "outputId": "97cf1290-e27b-4958-a89a-4f76a73a78ac"
      },
      "execution_count": 22,
      "outputs": [
        {
          "output_type": "stream",
          "name": "stdout",
          "text": [
            "+-----------+-------+-------------+-------------+-------+----+------------------------+---+-------+--------------------+--------------------+--------------------+----------+\n",
            "|Pregnancies|Glucose|BloodPressure|SkinThickness|Insulin| BMI|DiabetesPedigreeFunction|Age|Outcome|            features|       rawPrediction|         probability|prediction|\n",
            "+-----------+-------+-------------+-------------+-------+----+------------------------+---+-------+--------------------+--------------------+--------------------+----------+\n",
            "|          0|     67|           76|           29|    125|45.3|                   0.194| 46|      0|[0.0,67.0,76.0,29...|[2.05328161503477...|[0.88627878792583...|       0.0|\n",
            "|          0|     84|           64|           22|     66|35.8|                   0.545| 21|      0|[0.0,84.0,64.0,22...|[2.35893397349947...|[0.91364173254214...|       0.0|\n",
            "|          0|     93|           60|           25|     92|28.7|                   0.532| 22|      0|[0.0,93.0,60.0,25...|[2.74033588376159...|[0.93936523084033...|       0.0|\n",
            "|          0|     94|           70|           27|    115|43.5|                   0.347| 21|      0|[0.0,94.0,70.0,27...|[1.40751602176493...|[0.80337385941366...|       0.0|\n",
            "|          0|     95|           64|           39|    105|44.6|                   0.366| 22|      0|[0.0,95.0,64.0,39...|[1.03942471319613...|[0.73873898885584...|       0.0|\n",
            "+-----------+-------+-------------+-------------+-------+----+------------------------+---+-------+--------------------+--------------------+--------------------+----------+\n",
            "only showing top 5 rows\n",
            "\n"
          ]
        }
      ]
    },
    {
      "cell_type": "code",
      "source": [
        "from pyspark.ml import Pipeline\n",
        "from pyspark.ml.feature import Imputer # Assuming 'imputer' should be an Imputer\n",
        "from pyspark.ml.feature import SQLTransformer # Assuming 'replace_zero_with_null' uses SQL\n",
        "\n",
        "# Assuming replace_zero_with_null logic: Replace 0 with NULL in specified columns\n",
        "replace_zero_with_null = SQLTransformer(\n",
        "    statement=\"\"\"\n",
        "    SELECT\n",
        "        CASE WHEN Pregnancies = 0 THEN NULL ELSE Pregnancies END AS Pregnancies,\n",
        "        CASE WHEN Glucose = 0 THEN NULL ELSE Glucose END AS Glucose,\n",
        "        CASE WHEN BloodPressure = 0 THEN NULL ELSE BloodPressure END AS BloodPressure,\n",
        "        CASE WHEN SkinThickness = 0 THEN NULL ELSE SkinThickness END AS SkinThickness,\n",
        "        CASE WHEN Insulin = 0 THEN NULL ELSE Insulin END AS Insulin,\n",
        "        CASE WHEN BMI = 0 THEN NULL ELSE BMI END AS BMI,\n",
        "        DiabetesPedigreeFunction,\n",
        "        Age,\n",
        "        Outcome\n",
        "    FROM __THIS__\n",
        "    \"\"\"\n",
        ")\n",
        "\n",
        "# Assuming imputer logic: Impute missing values with the mean\n",
        "imputer = Imputer(\n",
        "    inputCols=['Pregnancies', 'Glucose', 'BloodPressure', 'SkinThickness', 'Insulin', 'BMI'],\n",
        "    outputCols=['Pregnancies', 'Glucose', 'BloodPressure', 'SkinThickness', 'Insulin', 'BMI'],\n",
        "    strategy='mean'\n",
        ")\n",
        "\n",
        "\n",
        "pipeline = Pipeline(stages=[replace_zero_with_null, imputer, assembler, lr])\n",
        "pipeline_model = pipeline.fit(my_data1)\n",
        "pred = pipeline_model.transform(my_data1)\n",
        "pred.show(5)"
      ],
      "metadata": {
        "colab": {
          "base_uri": "https://localhost:8080/"
        },
        "id": "hAWU1f1o-sjj",
        "outputId": "7dac91eb-07ef-42f7-ba84-56ee708146bb"
      },
      "execution_count": 26,
      "outputs": [
        {
          "output_type": "stream",
          "name": "stdout",
          "text": [
            "+-----------+-------+-------------+-------------+-------+----+------------------------+---+-------+--------------------+--------------------+--------------------+----------+\n",
            "|Pregnancies|Glucose|BloodPressure|SkinThickness|Insulin| BMI|DiabetesPedigreeFunction|Age|Outcome|            features|       rawPrediction|         probability|prediction|\n",
            "+-----------+-------+-------------+-------------+-------+----+------------------------+---+-------+--------------------+--------------------+--------------------+----------+\n",
            "|          6|    148|           72|           35|    125|33.6|                   0.627| 50|      1|[6.0,148.0,72.0,3...|[-0.8806900636527...|[0.29303480117503...|       1.0|\n",
            "|          1|     85|           66|           29|    125|26.6|                   0.351| 31|      0|[1.0,85.0,66.0,29...|[3.31433489007416...|[0.96491732110206...|       0.0|\n",
            "|          8|    183|           64|           29|    125|23.3|                   0.672| 32|      1|[8.0,183.0,64.0,2...|[-1.3965239083171...|[0.19836829416095...|       1.0|\n",
            "|          1|     89|           66|           23|     94|28.1|                   0.167| 21|      0|[1.0,89.0,66.0,23...|[3.32031546737250...|[0.96511921295743...|       0.0|\n",
            "|          4|    137|           40|           35|    168|43.1|                   2.288| 33|      1|[4.0,137.0,40.0,3...|[-2.5364876894623...|[0.07333951554929...|       1.0|\n",
            "+-----------+-------+-------------+-------------+-------+----+------------------------+---+-------+--------------------+--------------------+--------------------+----------+\n",
            "only showing top 5 rows\n",
            "\n"
          ]
        }
      ]
    },
    {
      "cell_type": "code",
      "source": [
        "#create a pipeline\n",
        "from pyspark.ml import Pipeline\n",
        "pipeline = Pipeline(stages=[replace_zero_with_null,imputer, assembler, lr])\n",
        "pipeline_model = pipeline.fit(my_data1)\n",
        "pred = pipeline_model.transform(my_data1)\n",
        "pred.show(5)"
      ],
      "metadata": {
        "colab": {
          "base_uri": "https://localhost:8080/"
        },
        "id": "2s2uwisK8YMk",
        "outputId": "0cf54f9a-d0dd-462b-a5ab-559af805c6c5"
      },
      "execution_count": 27,
      "outputs": [
        {
          "output_type": "stream",
          "name": "stdout",
          "text": [
            "+-----------+-------+-------------+-------------+-------+----+------------------------+---+-------+--------------------+--------------------+--------------------+----------+\n",
            "|Pregnancies|Glucose|BloodPressure|SkinThickness|Insulin| BMI|DiabetesPedigreeFunction|Age|Outcome|            features|       rawPrediction|         probability|prediction|\n",
            "+-----------+-------+-------------+-------------+-------+----+------------------------+---+-------+--------------------+--------------------+--------------------+----------+\n",
            "|          6|    148|           72|           35|    125|33.6|                   0.627| 50|      1|[6.0,148.0,72.0,3...|[-0.8806900636527...|[0.29303480117503...|       1.0|\n",
            "|          1|     85|           66|           29|    125|26.6|                   0.351| 31|      0|[1.0,85.0,66.0,29...|[3.31433489007416...|[0.96491732110206...|       0.0|\n",
            "|          8|    183|           64|           29|    125|23.3|                   0.672| 32|      1|[8.0,183.0,64.0,2...|[-1.3965239083171...|[0.19836829416095...|       1.0|\n",
            "|          1|     89|           66|           23|     94|28.1|                   0.167| 21|      0|[1.0,89.0,66.0,23...|[3.32031546737250...|[0.96511921295743...|       0.0|\n",
            "|          4|    137|           40|           35|    168|43.1|                   2.288| 33|      1|[4.0,137.0,40.0,3...|[-2.5364876894623...|[0.07333951554929...|       1.0|\n",
            "+-----------+-------+-------------+-------------+-------+----+------------------------+---+-------+--------------------+--------------------+--------------------+----------+\n",
            "only showing top 5 rows\n",
            "\n"
          ]
        }
      ]
    },
    {
      "cell_type": "code",
      "source": [
        "#create new data for prediction with outcome column\n",
        "Pregnancies=1\n",
        "Glucose=166\n",
        "BloodPressure=72\n",
        "SkinThickness=15\n",
        "Insulin=17\n",
        "BMI=33.6\n",
        "DiabetesPedigreeFunction=0.627\n",
        "Age=50\n",
        "# Add a placeholder value for 'Outcome' (you'll need to determine the appropriate value based on your problem)\n",
        "Outcome = 0\n",
        "new_data=spark.createDataFrame([(Pregnancies,Glucose,BloodPressure,SkinThickness,Insulin,BMI,DiabetesPedigreeFunction,Age, Outcome)],\n",
        "                               ['Pregnancies','Glucose','BloodPressure','SkinThickness','Insulin','BMI','DiabetesPedigreeFunction','Age', 'Outcome'])\n",
        "new_data.show()"
      ],
      "metadata": {
        "colab": {
          "base_uri": "https://localhost:8080/"
        },
        "id": "ax654PPS8YQp",
        "outputId": "2b0f311a-fcc9-4de4-b64f-1f12503259b0"
      },
      "execution_count": 28,
      "outputs": [
        {
          "output_type": "stream",
          "name": "stdout",
          "text": [
            "+-----------+-------+-------------+-------------+-------+----+------------------------+---+-------+\n",
            "|Pregnancies|Glucose|BloodPressure|SkinThickness|Insulin| BMI|DiabetesPedigreeFunction|Age|Outcome|\n",
            "+-----------+-------+-------------+-------------+-------+----+------------------------+---+-------+\n",
            "|          1|    166|           72|           15|     17|33.6|                   0.627| 50|      0|\n",
            "+-----------+-------+-------------+-------------+-------+----+------------------------+---+-------+\n",
            "\n"
          ]
        }
      ]
    },
    {
      "cell_type": "code",
      "source": [
        "#predicte new data through pipline\n",
        "pipeline_model.transform(new_data).show()"
      ],
      "metadata": {
        "colab": {
          "base_uri": "https://localhost:8080/"
        },
        "id": "F6_VAzuK8rC_",
        "outputId": "c46984ca-bc60-4e09-d3f4-099d32a418f8"
      },
      "execution_count": 29,
      "outputs": [
        {
          "output_type": "stream",
          "name": "stdout",
          "text": [
            "+-----------+-------+-------------+-------------+-------+----+------------------------+---+-------+--------------------+--------------------+--------------------+----------+\n",
            "|Pregnancies|Glucose|BloodPressure|SkinThickness|Insulin| BMI|DiabetesPedigreeFunction|Age|Outcome|            features|       rawPrediction|         probability|prediction|\n",
            "+-----------+-------+-------------+-------------+-------+----+------------------------+---+-------+--------------------+--------------------+--------------------+----------+\n",
            "|          1|    166|           72|           15|     17|33.6|                   0.627| 50|      0|[1.0,166.0,72.0,1...|[-0.8911289512497...|[0.29087690648059...|       1.0|\n",
            "+-----------+-------+-------------+-------------+-------+----+------------------------+---+-------+--------------------+--------------------+--------------------+----------+\n",
            "\n"
          ]
        }
      ]
    },
    {
      "cell_type": "code",
      "source": [],
      "metadata": {
        "id": "fCoU0giS8rJe"
      },
      "execution_count": null,
      "outputs": []
    },
    {
      "cell_type": "code",
      "source": [],
      "metadata": {
        "id": "PW0qssQh8rNf"
      },
      "execution_count": null,
      "outputs": []
    }
  ]
}