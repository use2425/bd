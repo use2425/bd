{
  "nbformat": 4,
  "nbformat_minor": 0,
  "metadata": {
    "colab": {
      "provenance": []
    },
    "kernelspec": {
      "name": "python3",
      "display_name": "Python 3"
    },
    "language_info": {
      "name": "python"
    }
  },
  "cells": [
    {
      "cell_type": "code",
      "source": [
        "from pyspark.sql import SparkSession\n",
        "from pyspark.sql import Row\n",
        "\n",
        "# Initialize Spark session\n",
        "spark = SparkSession.builder.appName(\"CRUD Operations with TempView\").getOrCreate()\n",
        "\n",
        "# Manually creating a DataFrame using Row\n",
        "data = [\n",
        "    Row(ID=1, Name=\"Alice\", Age=25),\n",
        "    Row(ID=2, Name=\"Bob\", Age=30),\n",
        "    Row(ID=3, Name=\"Charlie\", Age=35)\n",
        "]\n",
        "\n",
        "# Create DataFrame\n",
        "df_manual = spark.createDataFrame(data)\n",
        "\n",
        "# Create a temporary view for SQL queries\n",
        "df_manual.createOrReplaceTempView(\"people\")\n",
        "\n",
        "# Select records where Age is greater than 25\n",
        "filtered_records = spark.sql(\"SELECT * FROM people WHERE Age > 25\")\n",
        "filtered_records.show()\n",
        "\n",
        "# Insert new records\n",
        "new_data = [\n",
        "    Row(ID=4, Name=\"David\", Age=40),\n",
        "    Row(ID=5, Name=\"Eva\", Age=28)\n",
        "]\n",
        "df_new = spark.createDataFrame(new_data)\n",
        "df_combined = df_manual.union(df_new)\n",
        "df_combined.createOrReplaceTempView(\"people_combined\")\n",
        "spark.sql(\"SELECT * FROM people_combined\").show()\n",
        "\n",
        "# Update Age for the person with ID = 2\n",
        "updated_query = \"\"\"\n",
        "SELECT ID, Name,\n",
        "    CASE\n",
        "        WHEN ID = 2 THEN 32\n",
        "        ELSE Age\n",
        "    END AS Age\n",
        "FROM people_combined\n",
        "\"\"\"\n",
        "df_updated = spark.sql(updated_query)\n",
        "df_updated.createOrReplaceTempView(\"people_updated\")\n",
        "spark.sql(\"SELECT * FROM people_updated\").show()\n",
        "\n",
        "# Delete records where ID = 1\n",
        "df_deleted = spark.sql(\"SELECT * FROM people_updated WHERE ID != 1\")\n",
        "df_deleted.createOrReplaceTempView(\"people_updated\")\n",
        "spark.sql(\"SELECT * FROM people_updated\").show()\n"
      ],
      "metadata": {
        "colab": {
          "base_uri": "https://localhost:8080/"
        },
        "id": "83cOSDhOjdfd",
        "outputId": "366dd434-a2b8-4c95-b137-67bdc9e3cf93"
      },
      "execution_count": 2,
      "outputs": [
        {
          "output_type": "stream",
          "name": "stdout",
          "text": [
            "+---+-------+---+\n",
            "| ID|   Name|Age|\n",
            "+---+-------+---+\n",
            "|  2|    Bob| 30|\n",
            "|  3|Charlie| 35|\n",
            "+---+-------+---+\n",
            "\n",
            "+---+-------+---+\n",
            "| ID|   Name|Age|\n",
            "+---+-------+---+\n",
            "|  1|  Alice| 25|\n",
            "|  2|    Bob| 30|\n",
            "|  3|Charlie| 35|\n",
            "|  4|  David| 40|\n",
            "|  5|    Eva| 28|\n",
            "+---+-------+---+\n",
            "\n",
            "+---+-------+---+\n",
            "| ID|   Name|Age|\n",
            "+---+-------+---+\n",
            "|  1|  Alice| 25|\n",
            "|  2|    Bob| 32|\n",
            "|  3|Charlie| 35|\n",
            "|  4|  David| 40|\n",
            "|  5|    Eva| 28|\n",
            "+---+-------+---+\n",
            "\n",
            "+---+-------+---+\n",
            "| ID|   Name|Age|\n",
            "+---+-------+---+\n",
            "|  2|    Bob| 32|\n",
            "|  3|Charlie| 35|\n",
            "|  4|  David| 40|\n",
            "|  5|    Eva| 28|\n",
            "+---+-------+---+\n",
            "\n"
          ]
        }
      ]
    }
  ]
}