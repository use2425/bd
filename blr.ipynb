{
  "nbformat": 4,
  "nbformat_minor": 0,
  "metadata": {
    "colab": {
      "provenance": []
    },
    "kernelspec": {
      "name": "python3",
      "display_name": "Python 3"
    },
    "language_info": {
      "name": "python"
    }
  },
  "cells": [
    {
      "cell_type": "code",
      "source": [
        "def hash1(x):\n",
        "    return (x + 1) % 17\n",
        "\n",
        "def hash2(x):\n",
        "    return (3 * x + 2) % 17\n",
        "\n",
        "def compute_hashes(x, size):\n",
        "    h1 = hash1(x)\n",
        "    h2 = hash2(x)\n",
        "    index1 = h1 % size\n",
        "    index2 = h2 % size\n",
        "    return h1, h2, index1, index2\n",
        "\n",
        "# Initialize bit array with 0\n",
        "size = 18\n",
        "bit_array = [0] * size\n",
        "\n",
        "# Elements to add\n",
        "elements = [15, 10, 3]\n",
        "print(\"Element | h1(x) | h2(x) | Bit Index 1 | Bit Index 2\")\n",
        "print(\"---------------------------------------------------\")\n",
        "for element in elements:\n",
        "    h1, h2, index1, index2 = compute_hashes(element, size)\n",
        "    bit_array[index1] = 1\n",
        "    bit_array[index2] = 1\n",
        "    print(f\"{element:7} | {h1:5} | {h2:5} | {index1:11} | {index2:11}\")\n",
        "\n",
        "# Display the bit array\n",
        "print(\"\\nBit array after adding elements:\")\n",
        "print(bit_array)\n",
        "\n",
        "# Check new element\n",
        "new_element = 7\n",
        "new_h1, new_h2, new_index1, new_index2 = compute_hashes(new_element, size)\n",
        "\n",
        "print(f\"\\nNew Element: {new_element}\")\n",
        "print(f\"Hash1: {new_h1}, Bit Index 1: {new_index1}\")\n",
        "print(f\"Hash2: {new_h2}, Bit Index 2: {new_index2}\")\n",
        "\n",
        "# Check if the new element is likely present\n",
        "is_present = bit_array[new_index1] and bit_array[new_index2]\n",
        "print(f\"Is the new element {new_element} in the Bloom filter? {'Yes' if is_present else 'No'}\")\n",
        "\n",
        "# Display the updated bit array\n",
        "print(\"\\nBit array after checking new element:\")\n",
        "print(bit_array)\n"
      ],
      "metadata": {
        "colab": {
          "base_uri": "https://localhost:8080/"
        },
        "id": "6-cgDYkg6fZ0",
        "outputId": "0e7d7621-a705-4aa7-9201-cb078203bf75"
      },
      "execution_count": 1,
      "outputs": [
        {
          "output_type": "stream",
          "name": "stdout",
          "text": [
            "Element | h1(x) | h2(x) | Bit Index 1 | Bit Index 2\n",
            "---------------------------------------------------\n",
            "     15 |    16 |    13 |          16 |          13\n",
            "     10 |    11 |    15 |          11 |          15\n",
            "      3 |     4 |    11 |           4 |          11\n",
            "\n",
            "Bit array after adding elements:\n",
            "[0, 0, 0, 0, 1, 0, 0, 0, 0, 0, 0, 1, 0, 1, 0, 1, 1, 0]\n",
            "\n",
            "New Element: 7\n",
            "Hash1: 8, Bit Index 1: 8\n",
            "Hash2: 6, Bit Index 2: 6\n",
            "Is the new element 7 in the Bloom filter? No\n",
            "\n",
            "Bit array after checking new element:\n",
            "[0, 0, 0, 0, 1, 0, 0, 0, 0, 0, 0, 1, 0, 1, 0, 1, 1, 0]\n"
          ]
        }
      ]
    }
  ]
}